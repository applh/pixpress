{
 "cells": [
  {
   "cell_type": "code",
   "execution_count": 2,
   "metadata": {},
   "outputs": [
    {
     "name": "stdout",
     "output_type": "stream",
     "text": [
      "total 24\n",
      "-rw-r--r--   1 lh  staff  1212 Nov  3 20:59 README.md\n",
      "drwxr-xr-x  15 lh  staff   480 Nov  3 14:55 \u001b[34massets\u001b[m\u001b[m\n",
      "drwxr-xr-x   7 lh  staff   224 Nov  3 20:14 \u001b[34mclass\u001b[m\u001b[m\n",
      "drwxr-xr-x   8 lh  staff   256 Nov  3 21:04 \u001b[34mmy-data\u001b[m\u001b[m\n",
      "drwxr-xr-x   3 lh  staff    96 Nov  3 14:55 \u001b[34mpublic\u001b[m\u001b[m\n",
      "-rw-r--r--   1 lh  staff   585 Nov  3 22:21 readme.ipynb\n",
      "-rw-r--r--   1 lh  staff   685 Nov  3 15:39 server.php\n",
      "drwxr-xr-x   9 lh  staff   288 Nov  3 20:22 \u001b[34mtemplates\u001b[m\u001b[m\n",
      "\u001b[01;34m.\u001b[0m\n",
      "├── \u001b[00mREADME.md\u001b[0m\n",
      "├── \u001b[01;34massets\u001b[0m\n",
      "│   ├── \u001b[00masc-admin.js\u001b[0m\n",
      "│   ├── \u001b[00masc-compo1.js\u001b[0m\n",
      "│   ├── \u001b[00masc-compo2.js\u001b[0m\n",
      "│   ├── \u001b[00masc-login.js\u001b[0m\n",
      "│   ├── \u001b[01;34mmedia\u001b[0m\n",
      "│   │   ├── \u001b[00mimage-2.png\u001b[0m\n",
      "│   │   ├── \u001b[00mimage-3.png\u001b[0m\n",
      "│   │   ├── \u001b[00mimage-4.png\u001b[0m\n",
      "│   │   ├── \u001b[00mimage.png\u001b[0m\n",
      "│   │   ├── \u001b[00mlogo-0.png\u001b[0m\n",
      "│   │   ├── \u001b[00mlogo-2.png\u001b[0m\n",
      "│   │   ├── \u001b[00mlogo-3.png\u001b[0m\n",
      "│   │   └── \u001b[00mlogo-pixpress.png\u001b[0m\n",
      "│   ├── \u001b[00mmod-store.js\u001b[0m\n",
      "│   ├── \u001b[00mplugin-pixpress-admin.js\u001b[0m\n",
      "│   ├── \u001b[00mplugin-pixpress.js\u001b[0m\n",
      "│   ├── \u001b[00msc-test.js\u001b[0m\n",
      "│   ├── \u001b[00msite.css\u001b[0m\n",
      "│   ├── \u001b[00mvue.esm-browser.js\u001b[0m\n",
      "│   ├── \u001b[00mvue.global.js\u001b[0m\n",
      "│   └── \u001b[00mvue.global.prod.js\u001b[0m\n",
      "├── \u001b[01;34mclass\u001b[0m\n",
      "│   ├── \u001b[00mdb_sqlite.php\u001b[0m\n",
      "│   ├── \u001b[00mframework.php\u001b[0m\n",
      "│   ├── \u001b[00mhtml.php\u001b[0m\n",
      "│   ├── \u001b[00mmodel.php\u001b[0m\n",
      "│   └── \u001b[00mwebsite.php\u001b[0m\n",
      "├── \u001b[01;34mmy-data\u001b[0m\n",
      "│   ├── \u001b[00mconfig.php\u001b[0m\n",
      "│   ├── \u001b[00mdb.sqlite\u001b[0m\n",
      "│   ├── \u001b[01;34mpages\u001b[0m\n",
      "│   │   ├── \u001b[00mabout.md\u001b[0m\n",
      "│   │   ├── \u001b[00mcontact.md\u001b[0m\n",
      "│   │   └── \u001b[00mhome.md\u001b[0m\n",
      "│   ├── \u001b[01;34mparts\u001b[0m\n",
      "│   ├── \u001b[01;34mposts\u001b[0m\n",
      "│   └── \u001b[01;34mtemplates\u001b[0m\n",
      "├── \u001b[01;34mpublic\u001b[0m\n",
      "│   └── \u001b[00mindex.php\u001b[0m\n",
      "├── \u001b[00mreadme.ipynb\u001b[0m\n",
      "├── \u001b[00mserver.php\u001b[0m\n",
      "└── \u001b[01;34mtemplates\u001b[0m\n",
      "    ├── \u001b[00m404.php\u001b[0m\n",
      "    ├── \u001b[00mabout.php\u001b[0m\n",
      "    ├── \u001b[00madmin.php\u001b[0m\n",
      "    ├── \u001b[00mcontact.php\u001b[0m\n",
      "    ├── \u001b[00mhome.php\u001b[0m\n",
      "    ├── \u001b[00mrobots.php\u001b[0m\n",
      "    └── \u001b[00mtemplate.php\u001b[0m\n",
      "\n",
      "11 directories, 41 files\n"
     ]
    }
   ],
   "source": [
    "!ls -l\n",
    "!tree"
   ]
  }
 ],
 "metadata": {
  "kernelspec": {
   "display_name": ".venv",
   "language": "python",
   "name": "python3"
  },
  "language_info": {
   "codemirror_mode": {
    "name": "ipython",
    "version": 3
   },
   "file_extension": ".py",
   "mimetype": "text/x-python",
   "name": "python",
   "nbconvert_exporter": "python",
   "pygments_lexer": "ipython3",
   "version": "3.13.0"
  }
 },
 "nbformat": 4,
 "nbformat_minor": 2
}
